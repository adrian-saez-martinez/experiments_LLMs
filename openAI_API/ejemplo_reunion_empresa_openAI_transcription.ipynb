{
  "nbformat": 4,
  "nbformat_minor": 0,
  "metadata": {
    "colab": {
      "provenance": [],
      "gpuType": "V28"
    },
    "kernelspec": {
      "name": "python3",
      "display_name": "Python 3"
    },
    "language_info": {
      "name": "python"
    },
    "accelerator": "TPU"
  },
  "cells": [
    {
      "cell_type": "code",
      "source": [
        "!pip install openai"
      ],
      "metadata": {
        "id": "1_Y2R6CzLHKW",
        "colab": {
          "base_uri": "https://localhost:8080/"
        },
        "outputId": "8724a24d-8cb9-4c76-cef4-f4b79bdb2985"
      },
      "execution_count": null,
      "outputs": [
        {
          "output_type": "stream",
          "name": "stdout",
          "text": [
            "Collecting openai\n",
            "  Downloading openai-1.17.1-py3-none-any.whl (268 kB)\n",
            "\u001b[2K     \u001b[90m━━━━━━━━━━━━━━━━━━━━━━━━━━━━━━━━━━━━━━━━\u001b[0m \u001b[32m268.3/268.3 kB\u001b[0m \u001b[31m3.2 MB/s\u001b[0m eta \u001b[36m0:00:00\u001b[0m\n",
            "\u001b[?25hRequirement already satisfied: anyio<5,>=3.5.0 in /usr/local/lib/python3.10/dist-packages (from openai) (3.7.1)\n",
            "Requirement already satisfied: distro<2,>=1.7.0 in /usr/lib/python3/dist-packages (from openai) (1.7.0)\n",
            "Collecting httpx<1,>=0.23.0 (from openai)\n",
            "  Downloading httpx-0.27.0-py3-none-any.whl (75 kB)\n",
            "\u001b[2K     \u001b[90m━━━━━━━━━━━━━━━━━━━━━━━━━━━━━━━━━━━━━━━━\u001b[0m \u001b[32m75.6/75.6 kB\u001b[0m \u001b[31m3.3 MB/s\u001b[0m eta \u001b[36m0:00:00\u001b[0m\n",
            "\u001b[?25hRequirement already satisfied: pydantic<3,>=1.9.0 in /usr/local/lib/python3.10/dist-packages (from openai) (2.6.4)\n",
            "Requirement already satisfied: sniffio in /usr/local/lib/python3.10/dist-packages (from openai) (1.3.1)\n",
            "Requirement already satisfied: tqdm>4 in /usr/local/lib/python3.10/dist-packages (from openai) (4.66.2)\n",
            "Requirement already satisfied: typing-extensions<5,>=4.7 in /usr/local/lib/python3.10/dist-packages (from openai) (4.11.0)\n",
            "Requirement already satisfied: idna>=2.8 in /usr/local/lib/python3.10/dist-packages (from anyio<5,>=3.5.0->openai) (3.6)\n",
            "Requirement already satisfied: exceptiongroup in /usr/local/lib/python3.10/dist-packages (from anyio<5,>=3.5.0->openai) (1.2.0)\n",
            "Requirement already satisfied: certifi in /usr/local/lib/python3.10/dist-packages (from httpx<1,>=0.23.0->openai) (2024.2.2)\n",
            "Collecting httpcore==1.* (from httpx<1,>=0.23.0->openai)\n",
            "  Downloading httpcore-1.0.5-py3-none-any.whl (77 kB)\n",
            "\u001b[2K     \u001b[90m━━━━━━━━━━━━━━━━━━━━━━━━━━━━━━━━━━━━━━━━\u001b[0m \u001b[32m77.9/77.9 kB\u001b[0m \u001b[31m3.4 MB/s\u001b[0m eta \u001b[36m0:00:00\u001b[0m\n",
            "\u001b[?25hCollecting h11<0.15,>=0.13 (from httpcore==1.*->httpx<1,>=0.23.0->openai)\n",
            "  Downloading h11-0.14.0-py3-none-any.whl (58 kB)\n",
            "\u001b[2K     \u001b[90m━━━━━━━━━━━━━━━━━━━━━━━━━━━━━━━━━━━━━━━━\u001b[0m \u001b[32m58.3/58.3 kB\u001b[0m \u001b[31m5.7 MB/s\u001b[0m eta \u001b[36m0:00:00\u001b[0m\n",
            "\u001b[?25hRequirement already satisfied: annotated-types>=0.4.0 in /usr/local/lib/python3.10/dist-packages (from pydantic<3,>=1.9.0->openai) (0.6.0)\n",
            "Requirement already satisfied: pydantic-core==2.16.3 in /usr/local/lib/python3.10/dist-packages (from pydantic<3,>=1.9.0->openai) (2.16.3)\n",
            "Installing collected packages: h11, httpcore, httpx, openai\n",
            "Successfully installed h11-0.14.0 httpcore-1.0.5 httpx-0.27.0 openai-1.17.1\n"
          ]
        }
      ]
    },
    {
      "cell_type": "code",
      "execution_count": null,
      "metadata": {
        "id": "4OuXttZlKRyg",
        "colab": {
          "base_uri": "https://localhost:8080/"
        },
        "outputId": "7904adc7-d327-494e-ae9a-779eebe9abdb"
      },
      "outputs": [
        {
          "output_type": "stream",
          "name": "stdout",
          "text": [
            "Transcripción inicial: Bueno, el motivo de la reunión es porque en la empresa se ha visto una disminución de ventas de un 30%, hay factores e indicadores que estamos viendo en la disminución de ventas en toda la empresa, por consiguiente les he reunido para que me digan sus problemas y las soluciones a estos problemas que tenemos en la empresa. José, tú como jefe del área de puertas y herramientas, ¿cuáles son los problemas que has visto en tus áreas? Bueno, Carlos, mira, uno de los problemas que hemos visto es el tema de las promociones, vemos que los clientes no encuentran las promociones que de repente les desean para sus compras. Otro de los aspectos que hemos visto también es el tema de la competencia, vemos que la competencia está lanzando nuevos precios, actualizándolos, entonces de repente estamos quedando un poquito atrás respecto a ellos y bueno eso sería por mi parte lo que los problemas que tenemos en mi área. Ahora, las soluciones, tú como jefe, ¿cuáles serían las soluciones que podrías dar para el motivo para elevar las ventas? Bueno, una de las soluciones que planteo es hablar con los jefes de línea para que estos puedan mandar correos mucho más rápidos acerca de las actualizaciones de las promociones de su área y los distintos productos y aparte de repente aplicar una estrategia de cliente oculto o mystery shopper para obviamente actualizarnos el tema de precios y saber en la competencia cómo nos va y de repente poder adaptar la estrategia que están manejando comercialmente y aplicarlo a nuestra área. Muchas gracias. Andrea, tú como jefe del área de menaje y texting, ¿cuáles son los problemas que has visto en la empresa? Mira Ian Carlos, lo que yo más me he dado cuenta es que los asesores no están bien capacitados, los clientes hacen preguntas específicas sobre las características de los productos y muchos de nuestros asesores no tienen los conocimientos necesarios para resolver estas dudas. ¿Y las soluciones que has visto o que puedes proponer para solucionar los problemas? Yo recomendaría en este caso que se realicen capacitaciones frecuentes, el tiempo podría ser semanalmente y también evaluaciones de dichas capacitaciones y el tiempo podría ser también quincenalmente. Así de esa forma podríamos aumentar las ventas y darle una buena atención al cliente. Bueno, José y Andrea, les agradezco por asistir a la reunión y decirme los problemas y las soluciones que podemos dar solución a lo que es el desincremento de las ventas. Con lo que ustedes me han dicho, ahora voy a tomar las decisiones para poder subir las ventas y les agradezco por el motivo que están muy comprometidos con empresas en el crecimiento. Muchas gracias.\n",
            "Revisión de ChatGPT: - \"disminución\" en lugar de \"disminición\"\n",
            "- \"me digan\" en lugar de \"me digan\"\n",
            "- \"desincremento\" en lugar de \"desincremento\"\n",
            "¿Cómo te gustaría que organizara el texto?Corto plazo, medio plazo, largo plazo, Problemas área menaje, Soluciones área menaje, Problemas área puertas y herramientas, Soluciones área puertas y herramientas\n",
            "Texto organizado por ChatGPT: Problemas área menaje:\n",
            "- Asesores no capacitados\n",
            "- Clientes insatisfechos por falta de conocimientos del personal\n",
            "\n",
            "Soluciones área menaje:\n",
            "- Realizar capacitaciones frecuentes\n",
            "- Implementar evaluaciones periódicas para garantizar la formación del personal\n",
            "\n",
            "Problemas área puertas y herramientas:\n",
            "- Falta de promociones atractivas\n",
            "- Competencia con precios actualizados\n",
            "\n",
            "Soluciones área puertas y herramientas:\n",
            "- Coordinar con jefes de línea para comunicar promociones\n",
            "- Aplicar estrategias de cliente oculto para adaptarse a la competencia y actualizar precios\n",
            "\n",
            "Corto plazo:\n",
            "- Comunicar actualizaciones de promociones\n",
            "- Iniciar capacitaciones semanales\n",
            "\n",
            "Medio plazo:\n",
            "- Implementar estrategias de cliente oculto\n",
            "- Realizar evaluaciones quincenales\n",
            "\n",
            "Largo plazo:\n",
            "- Tomar decisiones basadas en los problemas y soluciones planteados\n",
            "- Aumentar las ventas y mejorar la atención al cliente.\n"
          ]
        }
      ],
      "source": [
        "import os\n",
        "from openai import OpenAI\n",
        "from google.colab import userdata\n",
        "\n",
        "# Configuración inicial de la API de OpenAI\n",
        "api_key = userdata.get('OPENAI_API_KEY')\n",
        "client = OpenAI(api_key=api_key)\n",
        "\n",
        "\n",
        "# Transcripción del audio\n",
        "# El audio viene del siguiente video de youtube: https://www.youtube.com/watch?v=g6sC2_RtJwg\n",
        "with open(\"/content/mp3files/ejemplo_reunion_empresa.mp3\", \"rb\") as audio_file:\n",
        "    transcription = client.audio.transcriptions.create(\n",
        "        model=\"whisper-1\",\n",
        "        file=audio_file\n",
        "    )\n",
        "\n",
        "transcribed_text = transcription.text\n",
        "print(\"Transcripción inicial:\", transcribed_text)\n",
        "\n",
        "# Función para interactuar con ChatGPT\n",
        "def chat_with_gpt(prompt):\n",
        "    response = client.chat.completions.create(\n",
        "        model=\"gpt-3.5-turbo\",\n",
        "        messages=[\n",
        "            {\"role\":\"user\", \"content\":prompt}\n",
        "            ],\n",
        "        max_tokens=500\n",
        "    )\n",
        "    return response.choices[0].message.content.strip()\n",
        "\n",
        "# Enviar la transcripción a ChatGPT para revisión\n",
        "revision_prompt = f\"Revisa el siguiente texto y señala cualquier palabra o término que parezca incorrecto: {transcribed_text}\"\n",
        "revision = chat_with_gpt(revision_prompt)\n",
        "print(\"Revisión de ChatGPT:\", revision)\n",
        "\n",
        "# Proceso iterativo para confirmar términos y organizar el texto\n",
        "# Aquí puedes agregar más diálogos según necesites para la interacción\n",
        "organize_prompt = \"¿Cómo te gustaría que organizara el texto?\"\n",
        "organize_instruction = input(organize_prompt)  # Supone interacción del usuario en la consola\n",
        "organized_text = chat_with_gpt(f\"Organiza el texto de esta manera: {organize_instruction}\\nTexto: {transcribed_text}\")\n",
        "print(\"Texto organizado por ChatGPT:\", organized_text)"
      ]
    },
    {
      "cell_type": "code",
      "source": [],
      "metadata": {
        "id": "dmhksr3FKWgF"
      },
      "execution_count": null,
      "outputs": []
    }
  ]
}